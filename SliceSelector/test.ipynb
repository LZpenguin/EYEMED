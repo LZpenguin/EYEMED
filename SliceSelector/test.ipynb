{
 "cells": [
  {
   "cell_type": "code",
   "execution_count": null,
   "id": "39055bf8",
   "metadata": {},
   "outputs": [],
   "source": [
    "import os\n",
    "import numpy as np\n",
    "import nibabel as nib\n",
    "import pandas as pd\n",
    "from PIL import Image\n",
    "from tqdm import tqdm\n",
    "import cv2\n",
    "import warnings\n",
    "warnings.filterwarnings('ignore')\n",
    "\n",
    "data_dir = \"../data/preprocessed_-350_1150\"\n",
    "excel_path = \"../data/mark.xlsx\"\n",
    "bad_keys = [\"确定排除\", \"极明显前倾\", \"明显左右倾\"]\n",
    "size = 512\n",
    "\n",
    "def parse_one(item):\n",
    "    if sum(item[bad_keys]) > 0:\n",
    "        good_begin = 0\n",
    "        good_end = 0\n",
    "    else:\n",
    "        good_begin = int(item[\"起始切片（眼眶部下界）\"])*2\n",
    "        good_end = int(item[\"终止切片（眼眶部上界）\"])*2\n",
    "\n",
    "    def handle_nii(filename):\n",
    "        nii_img = nib.load(os.path.join(data_dir, filename + \".nii.gz\"))\n",
    "        data = nii_img.get_fdata()\n",
    "        good_slice = []\n",
    "        bad_slice = []\n",
    "        for i in range(data.shape[2]):\n",
    "            # 使用cv2.resize调整大小\n",
    "            slice_data = cv2.resize(data[:,:,i], (size, size), interpolation=cv2.INTER_LINEAR)\n",
    "            if good_begin <= i <= good_end:\n",
    "                good_slice.append(slice_data)\n",
    "            else:\n",
    "                bad_slice.append(slice_data)\n",
    "        return good_slice, bad_slice\n",
    "    try:\n",
    "        return handle_nii(str(int(item[\"dicom_id\"])))\n",
    "    except:\n",
    "        gs1, bs1 =  handle_nii(str(int(item[\"dicom_id\"]))+'_1')\n",
    "        gs2, bs2 = handle_nii(str(int(item[\"dicom_id\"]))+'_2')\n",
    "        return gs1+gs2, bs1+bs2\n"
   ]
  },
  {
   "cell_type": "code",
   "execution_count": null,
   "id": "76345ca1",
   "metadata": {},
   "outputs": [],
   "source": [
    "df = pd.read_excel(excel_path)\n",
    "nii_img = nib.load(f\"../data/preprocessed_-350_1150/{int(df.iloc[6]['dicom_id'])}.nii.gz\")\n",
    "data = nii_img.get_fdata()\n",
    "data.shape"
   ]
  },
  {
   "cell_type": "code",
   "execution_count": null,
   "id": "e72f9671",
   "metadata": {},
   "outputs": [],
   "source": [
    "df = pd.read_excel(excel_path)\n",
    "\n",
    "good_slices = []\n",
    "bad_slices = []\n",
    "\n",
    "for idx in tqdm(range(len(df))):\n",
    "    try:\n",
    "        item = df.iloc[idx]\n",
    "        gs, bs = parse_one(item)\n",
    "        good_slices.extend(gs)\n",
    "        bad_slices.extend(bs)\n",
    "    except:\n",
    "        pass"
   ]
  },
  {
   "cell_type": "code",
   "execution_count": null,
   "id": "ee0d75a1",
   "metadata": {},
   "outputs": [],
   "source": [
    "data_list = []\n",
    "\n",
    "for slice_data in tqdm(good_slices):\n",
    "    data_list.append({\n",
    "        'slice': slice_data.tolist(),\n",
    "        'is_eye': True\n",
    "    })\n",
    "for slice_data in tqdm(bad_slices):\n",
    "    data_list.append({\n",
    "        'slice': slice_data.tolist(),\n",
    "        'is_eye': False\n",
    "    })\n",
    "\n",
    "df = pd.DataFrame(data_list)\n",
    "\n",
    "os.makedirs('../data/parquet', exist_ok=True)\n",
    "df.to_parquet(f'../data/parquet/{size}-{\"_\".join(bad_keys)}.parquet', index=False)"
   ]
  },
  {
   "cell_type": "code",
   "execution_count": null,
   "id": "21b1abac",
   "metadata": {},
   "outputs": [],
   "source": []
  }
 ],
 "metadata": {
  "kernelspec": {
   "display_name": "med",
   "language": "python",
   "name": "python3"
  },
  "language_info": {
   "codemirror_mode": {
    "name": "ipython",
    "version": 3
   },
   "file_extension": ".py",
   "mimetype": "text/x-python",
   "name": "python",
   "nbconvert_exporter": "python",
   "pygments_lexer": "ipython3",
   "version": "3.10.18"
  }
 },
 "nbformat": 4,
 "nbformat_minor": 5
}
